{
 "cells": [
  {
   "cell_type": "markdown",
   "id": "56de90e6",
   "metadata": {},
   "source": [
    "<a target=\"_blank\" href=\"https://colab.research.google.com/github/omidshy/ML/blob/master/src/train.ipynb\">\n",
    "  <img src=\"https://colab.research.google.com/assets/colab-badge.svg\" alt=\"Open In Colab\"/>\n",
    "</a>"
   ]
  },
  {
   "cell_type": "markdown",
   "id": "ed12bdc7",
   "metadata": {},
   "source": [
    "Recognizing handwritten digits, using stochastic gradient descent and the MNIST dataset."
   ]
  },
  {
   "cell_type": "code",
   "execution_count": 1,
   "id": "3b5773fb",
   "metadata": {},
   "outputs": [],
   "source": [
    "import mnist_loader\n",
    "import network"
   ]
  },
  {
   "cell_type": "markdown",
   "id": "2bb6ea8b",
   "metadata": {},
   "source": [
    "Set the number of neurons in the hidden layer, batch size, learning rate, and number of epochs for the training."
   ]
  },
  {
   "cell_type": "code",
   "execution_count": 2,
   "id": "b0f74112",
   "metadata": {},
   "outputs": [],
   "source": [
    "neurons = 32\n",
    "batch = 8\n",
    "lrate = 1.0\n",
    "epochs = 30"
   ]
  },
  {
   "cell_type": "code",
   "execution_count": 3,
   "id": "1bef87ce",
   "metadata": {},
   "outputs": [
    {
     "name": "stdout",
     "output_type": "stream",
     "text": [
      "Epoch   0: 8779 / 10000, time 2.66 seconds\n",
      "Epoch   1: 9084 / 10000, time 2.49 seconds\n",
      "Epoch   2: 9212 / 10000, time 2.51 seconds\n",
      "Epoch   3: 9252 / 10000, time 2.67 seconds\n",
      "Epoch   4: 9287 / 10000, time 2.52 seconds\n",
      "Epoch   5: 9311 / 10000, time 2.54 seconds\n",
      "Epoch   6: 9329 / 10000, time 2.52 seconds\n",
      "Epoch   7: 9365 / 10000, time 2.64 seconds\n",
      "Epoch   8: 9389 / 10000, time 2.60 seconds\n",
      "Epoch   9: 9384 / 10000, time 2.53 seconds\n",
      "Epoch  10: 9391 / 10000, time 2.56 seconds\n",
      "Epoch  11: 9408 / 10000, time 2.76 seconds\n",
      "Epoch  12: 9396 / 10000, time 2.63 seconds\n",
      "Epoch  13: 9424 / 10000, time 2.75 seconds\n",
      "Epoch  14: 9406 / 10000, time 2.74 seconds\n",
      "Epoch  15: 9422 / 10000, time 2.72 seconds\n",
      "Epoch  16: 9439 / 10000, time 2.73 seconds\n",
      "Epoch  17: 9442 / 10000, time 2.77 seconds\n",
      "Epoch  18: 9443 / 10000, time 2.82 seconds\n",
      "Epoch  19: 9445 / 10000, time 2.84 seconds\n",
      "Epoch  20: 9423 / 10000, time 2.82 seconds\n",
      "Epoch  21: 9443 / 10000, time 2.82 seconds\n",
      "Epoch  22: 9435 / 10000, time 2.83 seconds\n",
      "Epoch  23: 9445 / 10000, time 2.83 seconds\n",
      "Epoch  24: 9438 / 10000, time 2.78 seconds\n",
      "Epoch  25: 9442 / 10000, time 2.81 seconds\n",
      "Epoch  26: 9452 / 10000, time 2.87 seconds\n",
      "Epoch  27: 9455 / 10000, time 2.76 seconds\n",
      "Epoch  28: 9469 / 10000, time 2.75 seconds\n",
      "Epoch  29: 9460 / 10000, time 2.77 seconds\n"
     ]
    }
   ],
   "source": [
    "# loading in the MNIST data\n",
    "training_data, validation_data, test_data = mnist_loader.load_data_wrapper()\n",
    "\n",
    "# set up a Network with n hidden neurons\n",
    "nn = network.Network([784, neurons, 10])\n",
    "\n",
    "# use stochastic gradient descent to learn from the MNIST training_data over i epochs, \n",
    "# with a mini-batch size of m, and a learning rate η\n",
    "nn.SGD(training_data, epochs, batch, lrate, test_data=test_data)"
   ]
  },
  {
   "cell_type": "code",
   "execution_count": null,
   "id": "55d6d5be",
   "metadata": {},
   "outputs": [],
   "source": []
  }
 ],
 "metadata": {
  "kernelspec": {
   "display_name": "pytorch",
   "language": "python",
   "name": "pytorch"
  },
  "language_info": {
   "codemirror_mode": {
    "name": "ipython",
    "version": 3
   },
   "file_extension": ".py",
   "mimetype": "text/x-python",
   "name": "python",
   "nbconvert_exporter": "python",
   "pygments_lexer": "ipython3",
   "version": "3.9.18"
  }
 },
 "nbformat": 4,
 "nbformat_minor": 5
}
