{
 "cells": [
  {
   "cell_type": "markdown",
   "id": "56de90e6",
   "metadata": {},
   "source": [
    "<a target=\"_blank\" href=\"https://colab.research.google.com/github/omidshy/ML/blob/master/src/train.ipynb\">\n",
    "  <img src=\"https://colab.research.google.com/assets/colab-badge.svg\" alt=\"Open In Colab\"/>\n",
    "</a>"
   ]
  },
  {
   "cell_type": "code",
   "execution_count": null,
   "id": "20a4e1a5",
   "metadata": {},
   "outputs": [],
   "source": [
    "Recognizing handwritten digits, using stochastic gradient descent and the MNIST dataset."
   ]
  },
  {
   "cell_type": "code",
   "execution_count": 1,
   "id": "3b5773fb",
   "metadata": {},
   "outputs": [],
   "source": [
    "import mnist_loader\n",
    "import network"
   ]
  },
  {
   "cell_type": "markdown",
   "id": "2bb6ea8b",
   "metadata": {},
   "source": [
    "Set the number of neurons in the hidden layer, batch size, learning rate, and number of epochs for the training."
   ]
  },
  {
   "cell_type": "code",
   "execution_count": 2,
   "id": "b0f74112",
   "metadata": {},
   "outputs": [],
   "source": [
    "neurons = 32\n",
    "batch = 8\n",
    "lrate = 1.0\n",
    "epochs = 30"
   ]
  },
  {
   "cell_type": "code",
   "execution_count": null,
   "id": "1bef87ce",
   "metadata": {},
   "outputs": [],
   "source": [
    "# loading in the MNIST data\n",
    "training_data, validation_data, test_data = mnist_loader.load_data_wrapper()\n",
    "\n",
    "# set up a Network with n hidden neurons\n",
    "nn = network.Network([784, neurons, 10])\n",
    "\n",
    "# use stochastic gradient descent to learn from the MNIST training_data over i epochs, \n",
    "# with a mini-batch size of m, and a learning rate η\n",
    "nn.SGD(training_data, epochs, batch, lrate, test_data=test_data)"
   ]
  }
 ],
 "metadata": {
  "kernelspec": {
   "display_name": "pytorch",
   "language": "python",
   "name": "pytorch"
  },
  "language_info": {
   "codemirror_mode": {
    "name": "ipython",
    "version": 3
   },
   "file_extension": ".py",
   "mimetype": "text/x-python",
   "name": "python",
   "nbconvert_exporter": "python",
   "pygments_lexer": "ipython3",
   "version": "3.9.18"
  }
 },
 "nbformat": 4,
 "nbformat_minor": 5
}
